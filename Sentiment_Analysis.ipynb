{
 "cells": [
  {
   "cell_type": "code",
   "execution_count": 1,
   "id": "9b598705",
   "metadata": {},
   "outputs": [],
   "source": [
    "import pandas as pd\n",
    "from statistics import mean "
   ]
  },
  {
   "cell_type": "markdown",
   "id": "94dfd5f8",
   "metadata": {},
   "source": [
    "# Task 1 – Understanding Sentiment of an Input Text"
   ]
  },
  {
   "cell_type": "markdown",
   "id": "4abcba45",
   "metadata": {},
   "source": [
    "##### Task description\n",
    "\n",
    "You task is to implement a small system that will provide sentiment analysis of a single sentences that will be given to it as an input. Response of the system should be positive, negative or neutral based on the “estimated” sentiment of input text. The \n",
    "estimation should be done according to the sentiment algorithms provided. Algorithm is very simple, but yet can be useful to \n",
    "derive interesting insights from an unstructured texts of social media.\n",
    "\n",
    "##### Sample Input/Output Texts\n",
    "\n",
    "Text->Sentiment:\n",
    "\n",
    "I really like new book of that author.                  -> Positive\n",
    "\n",
    "I hate new regulations about importing policies.        -> Negative\n",
    "\n",
    "Look at that door, it’s still open.                     -> Neutral"
   ]
  },
  {
   "cell_type": "code",
   "execution_count": 2,
   "id": "1825dd37",
   "metadata": {},
   "outputs": [
    {
     "data": {
      "text/html": [
       "<div>\n",
       "<style scoped>\n",
       "    .dataframe tbody tr th:only-of-type {\n",
       "        vertical-align: middle;\n",
       "    }\n",
       "\n",
       "    .dataframe tbody tr th {\n",
       "        vertical-align: top;\n",
       "    }\n",
       "\n",
       "    .dataframe thead th {\n",
       "        text-align: right;\n",
       "    }\n",
       "</style>\n",
       "<table border=\"1\" class=\"dataframe\">\n",
       "  <thead>\n",
       "    <tr style=\"text-align: right;\">\n",
       "      <th></th>\n",
       "      <th>word</th>\n",
       "      <th>score</th>\n",
       "    </tr>\n",
       "  </thead>\n",
       "  <tbody>\n",
       "    <tr>\n",
       "      <th>0</th>\n",
       "      <td>abandon</td>\n",
       "      <td>-2</td>\n",
       "    </tr>\n",
       "    <tr>\n",
       "      <th>1</th>\n",
       "      <td>abandoned</td>\n",
       "      <td>-2</td>\n",
       "    </tr>\n",
       "    <tr>\n",
       "      <th>2</th>\n",
       "      <td>abandons</td>\n",
       "      <td>-2</td>\n",
       "    </tr>\n",
       "    <tr>\n",
       "      <th>3</th>\n",
       "      <td>abducted</td>\n",
       "      <td>-2</td>\n",
       "    </tr>\n",
       "    <tr>\n",
       "      <th>4</th>\n",
       "      <td>abduction</td>\n",
       "      <td>-2</td>\n",
       "    </tr>\n",
       "    <tr>\n",
       "      <th>...</th>\n",
       "      <td>...</td>\n",
       "      <td>...</td>\n",
       "    </tr>\n",
       "    <tr>\n",
       "      <th>2472</th>\n",
       "      <td>yucky</td>\n",
       "      <td>-2</td>\n",
       "    </tr>\n",
       "    <tr>\n",
       "      <th>2473</th>\n",
       "      <td>yummy</td>\n",
       "      <td>3</td>\n",
       "    </tr>\n",
       "    <tr>\n",
       "      <th>2474</th>\n",
       "      <td>zealot</td>\n",
       "      <td>-2</td>\n",
       "    </tr>\n",
       "    <tr>\n",
       "      <th>2475</th>\n",
       "      <td>zealots</td>\n",
       "      <td>-2</td>\n",
       "    </tr>\n",
       "    <tr>\n",
       "      <th>2476</th>\n",
       "      <td>zealous</td>\n",
       "      <td>2</td>\n",
       "    </tr>\n",
       "  </tbody>\n",
       "</table>\n",
       "<p>2477 rows × 2 columns</p>\n",
       "</div>"
      ],
      "text/plain": [
       "           word  score\n",
       "0       abandon     -2\n",
       "1     abandoned     -2\n",
       "2      abandons     -2\n",
       "3      abducted     -2\n",
       "4     abduction     -2\n",
       "...         ...    ...\n",
       "2472      yucky     -2\n",
       "2473      yummy      3\n",
       "2474     zealot     -2\n",
       "2475    zealots     -2\n",
       "2476    zealous      2\n",
       "\n",
       "[2477 rows x 2 columns]"
      ]
     },
     "execution_count": 2,
     "metadata": {},
     "output_type": "execute_result"
    }
   ],
   "source": [
    "afinn = pd.read_csv('AFINN-111.txt', delimiter = \"\\t\", header=None, names = ['word', 'score'])\n",
    "afinn"
   ]
  },
  {
   "cell_type": "code",
   "execution_count": 3,
   "id": "9c9cb8e4",
   "metadata": {},
   "outputs": [],
   "source": [
    "def cleaning(word):\n",
    "\n",
    "# here each word is being cleaned by any included non-alphabetical characters, \n",
    "# like in a case: car?, Holidays!, planets:, 'yummy', sweet, yucky. ...        \n",
    "# Besides that it excludes any non-alphabetical typos\n",
    "        \n",
    "    clean_word = ''        \n",
    "\n",
    "    for letter in word: \n",
    "        if letter.isalpha():\n",
    "            clean_word += letter\n",
    "        else:\n",
    "            next\n",
    "        \n",
    "    return clean_word\n",
    "\n",
    "\n",
    "def sentiment(text):\n",
    "    \n",
    "    score = 0\n",
    "    \n",
    "    for each in text.split():\n",
    "        # cleaning words from any non-alphabetical characters\n",
    "        clean_each = cleaning(each).lower()\n",
    "    \n",
    "        if clean_each in list(afinn['word']):\n",
    "            #identifying the index of the word in afinn dataset\n",
    "            each_index = list(afinn['word']).index(clean_each)\n",
    "            # adding up all scores\n",
    "            score += afinn['score'][each_index]\n",
    "        else:\n",
    "            next\n",
    "\n",
    "# here is the final result of the sentiment analysis            \n",
    "    if score > 0:\n",
    "        print('positive')\n",
    "    elif score < 0:\n",
    "        print('negative')\n",
    "    else:\n",
    "        print('neutral')"
   ]
  },
  {
   "cell_type": "markdown",
   "id": "3d0b87af",
   "metadata": {},
   "source": [
    "##### Checking for the code with examples"
   ]
  },
  {
   "cell_type": "code",
   "execution_count": 4,
   "id": "edf1c8a7",
   "metadata": {},
   "outputs": [
    {
     "name": "stdout",
     "output_type": "stream",
     "text": [
      "positive\n"
     ]
    }
   ],
   "source": [
    "myText = 'abandon and \"yummy and a3bandoned and yes? and ability, yucky, zealot, aboard yeees,'\n",
    "sentiment(myText)"
   ]
  },
  {
   "cell_type": "code",
   "execution_count": 5,
   "id": "77caf173",
   "metadata": {},
   "outputs": [
    {
     "name": "stdout",
     "output_type": "stream",
     "text": [
      "positive\n"
     ]
    }
   ],
   "source": [
    "myText = 'I really like new book of that author.'\n",
    "sentiment(myText)"
   ]
  },
  {
   "cell_type": "code",
   "execution_count": 6,
   "id": "86c4f8c8",
   "metadata": {},
   "outputs": [
    {
     "name": "stdout",
     "output_type": "stream",
     "text": [
      "negative\n"
     ]
    }
   ],
   "source": [
    "myText = 'I hate new regulations about importing policies.'\n",
    "sentiment(myText)"
   ]
  },
  {
   "cell_type": "code",
   "execution_count": 7,
   "id": "f0cce8d2",
   "metadata": {},
   "outputs": [
    {
     "name": "stdout",
     "output_type": "stream",
     "text": [
      "neutral\n"
     ]
    }
   ],
   "source": [
    "myText = 'Look at that door, it’s still open.'\n",
    "sentiment(myText)"
   ]
  },
  {
   "cell_type": "markdown",
   "id": "dd941849",
   "metadata": {},
   "source": [
    "# Task 2 – Understanding Sentiment of New Terms"
   ]
  },
  {
   "cell_type": "markdown",
   "id": "f5e7f0f0",
   "metadata": {},
   "source": [
    "##### Task Description\n",
    "\n",
    "In this part you need to create a functionality within your existing solution that computes a new sentiment for the terms that \n",
    "do not appear in the file AFINN-111.txt and save them into another data frame or CSV file called ‘sentiments_new’.\n",
    "\n",
    "##### Algorithms Description\n",
    "\n",
    "Certain words can be used to “estimate” the sentiment of a input text. Once you know the sentiment of the input texts that contain some new term, you can assign a sentiment to the new term itself. However, there are a number of words called “stop-words” that are not actually not bringing much sentiment to the text directly. You should ignore such words, list of them can be found in ‘stop-words-english.zip’ file.\n",
    "\n",
    "##### Sample Input/Output Texts\n",
    "\n",
    "Text: \n",
    "I really like new book of that author.\n",
    "\n",
    "New Terms Sentiment:\n",
    "author 2.0\n",
    "book 2.0"
   ]
  },
  {
   "cell_type": "code",
   "execution_count": 8,
   "id": "dc895db3",
   "metadata": {},
   "outputs": [
    {
     "data": {
      "text/html": [
       "<div>\n",
       "<style scoped>\n",
       "    .dataframe tbody tr th:only-of-type {\n",
       "        vertical-align: middle;\n",
       "    }\n",
       "\n",
       "    .dataframe tbody tr th {\n",
       "        vertical-align: top;\n",
       "    }\n",
       "\n",
       "    .dataframe thead th {\n",
       "        text-align: right;\n",
       "    }\n",
       "</style>\n",
       "<table border=\"1\" class=\"dataframe\">\n",
       "  <thead>\n",
       "    <tr style=\"text-align: right;\">\n",
       "      <th></th>\n",
       "      <th>word</th>\n",
       "    </tr>\n",
       "  </thead>\n",
       "  <tbody>\n",
       "    <tr>\n",
       "      <th>1</th>\n",
       "      <td>able</td>\n",
       "    </tr>\n",
       "    <tr>\n",
       "      <th>2</th>\n",
       "      <td>about</td>\n",
       "    </tr>\n",
       "    <tr>\n",
       "      <th>3</th>\n",
       "      <td>above</td>\n",
       "    </tr>\n",
       "    <tr>\n",
       "      <th>4</th>\n",
       "      <td>abroad</td>\n",
       "    </tr>\n",
       "    <tr>\n",
       "      <th>5</th>\n",
       "      <td>according</td>\n",
       "    </tr>\n",
       "    <tr>\n",
       "      <th>...</th>\n",
       "      <td>...</td>\n",
       "    </tr>\n",
       "    <tr>\n",
       "      <th>2398</th>\n",
       "      <td>yourself</td>\n",
       "    </tr>\n",
       "    <tr>\n",
       "      <th>2399</th>\n",
       "      <td>yourselves</td>\n",
       "    </tr>\n",
       "    <tr>\n",
       "      <th>2400</th>\n",
       "      <td>you've</td>\n",
       "    </tr>\n",
       "    <tr>\n",
       "      <th>2401</th>\n",
       "      <td>z</td>\n",
       "    </tr>\n",
       "    <tr>\n",
       "      <th>2402</th>\n",
       "      <td>zero</td>\n",
       "    </tr>\n",
       "  </tbody>\n",
       "</table>\n",
       "<p>2402 rows × 1 columns</p>\n",
       "</div>"
      ],
      "text/plain": [
       "            word\n",
       "1           able\n",
       "2          about\n",
       "3          above\n",
       "4         abroad\n",
       "5      according\n",
       "...          ...\n",
       "2398    yourself\n",
       "2399  yourselves\n",
       "2400      you've\n",
       "2401           z\n",
       "2402        zero\n",
       "\n",
       "[2402 rows x 1 columns]"
      ]
     },
     "execution_count": 8,
     "metadata": {},
     "output_type": "execute_result"
    }
   ],
   "source": [
    "# Collecting all stopwords at hand\n",
    "\n",
    "stopwords1 = pd.read_csv('stop-words_english_1_en.txt', header=None)\n",
    "stopwords2 = pd.read_csv('stop-words_english_2_en.txt', header=None)\n",
    "stopwords3 = pd.read_csv('stop-words_english_3_en.txt', header=None)\n",
    "stopwords4 = pd.read_csv('stop-words_english_4_google_en.txt', header=None)\n",
    "stopwords5 = pd.read_csv('stop-words_english_5_en.txt', header=None)\n",
    "stopwords6 = pd.read_csv('stop-words_english_6_en.txt', header=None)\n",
    "\n",
    "stopwords = pd.concat([stopwords1, stopwords2, stopwords3, stopwords4, stopwords5, stopwords6], axis=0)\n",
    "\n",
    "stopwords.index = [list(range(1, len(stopwords)+1))]\n",
    "stopwords.columns = ['word']\n",
    "\n",
    "stopwords"
   ]
  },
  {
   "cell_type": "code",
   "execution_count": 11,
   "id": "66f85699",
   "metadata": {},
   "outputs": [],
   "source": [
    "def new_sentiments(text):\n",
    "\n",
    "    # creating a bunch of lists to store necessary data\n",
    "    new_words = []\n",
    "    sentiment_scores = []\n",
    "\n",
    "    # Main function\n",
    "\n",
    "    for each in text.split():\n",
    "        each = cleaning(each)\n",
    "    \n",
    "        # filtering out new words, which are not included in stopwords\n",
    "        if each in list(stopwords['word']):\n",
    "            next\n",
    "        elif each in list(afinn['word']):\n",
    "            next\n",
    "        else:\n",
    "            new_words.append(each)\n",
    "        \n",
    "        if each in list(afinn['word']):\n",
    "            #identifying the index of the word in afinn dataset\n",
    "            each_index = list(afinn['word']).index(each)\n",
    "            # appending sentiment word's score based on AFINN dataset to our temporary sentiment_scores list\n",
    "            sentiment_scores.append(afinn['score'][each_index])\n",
    "\n",
    "    # calculating average new_score for new_words in a case when there is more sentiment words in a text already\n",
    "    new_scores = round(mean(sentiment_scores))\n",
    "\n",
    "    # creating output in a Data Frame format\n",
    "    new_sentiment = pd.DataFrame(\n",
    "        {'words': new_words, \n",
    "         'scores': new_scores}, \n",
    "        index = list(range(1, len(new_words)+1))\n",
    "    )\n",
    "\n",
    "    # automatically saves data in CSV format\n",
    "    new_sentiment.to_csv('new_sentiment.csv')\n",
    "\n",
    "    print('The output is automatically saved in your local PC under a name \"new_sentiment.csv\" format')\n",
    "    return new_sentiment"
   ]
  },
  {
   "cell_type": "markdown",
   "id": "483a8231",
   "metadata": {},
   "source": [
    "##### Checking for the code with examples"
   ]
  },
  {
   "cell_type": "code",
   "execution_count": 12,
   "id": "01f797da",
   "metadata": {},
   "outputs": [
    {
     "name": "stdout",
     "output_type": "stream",
     "text": [
      "The output is automatically saved in your local PC under a name \"new_sentiment.csv\" format\n"
     ]
    },
    {
     "data": {
      "text/html": [
       "<div>\n",
       "<style scoped>\n",
       "    .dataframe tbody tr th:only-of-type {\n",
       "        vertical-align: middle;\n",
       "    }\n",
       "\n",
       "    .dataframe tbody tr th {\n",
       "        vertical-align: top;\n",
       "    }\n",
       "\n",
       "    .dataframe thead th {\n",
       "        text-align: right;\n",
       "    }\n",
       "</style>\n",
       "<table border=\"1\" class=\"dataframe\">\n",
       "  <thead>\n",
       "    <tr style=\"text-align: right;\">\n",
       "      <th></th>\n",
       "      <th>words</th>\n",
       "      <th>scores</th>\n",
       "    </tr>\n",
       "  </thead>\n",
       "  <tbody>\n",
       "    <tr>\n",
       "      <th>1</th>\n",
       "      <td>regulations</td>\n",
       "      <td>-3</td>\n",
       "    </tr>\n",
       "    <tr>\n",
       "      <th>2</th>\n",
       "      <td>importing</td>\n",
       "      <td>-3</td>\n",
       "    </tr>\n",
       "    <tr>\n",
       "      <th>3</th>\n",
       "      <td>policies</td>\n",
       "      <td>-3</td>\n",
       "    </tr>\n",
       "  </tbody>\n",
       "</table>\n",
       "</div>"
      ],
      "text/plain": [
       "         words  scores\n",
       "1  regulations      -3\n",
       "2    importing      -3\n",
       "3     policies      -3"
      ]
     },
     "execution_count": 12,
     "metadata": {},
     "output_type": "execute_result"
    }
   ],
   "source": [
    "myText = \"I really like new book of that author.\"\n",
    "new_sentiments(myText)"
   ]
  }
 ],
 "metadata": {
  "kernelspec": {
   "display_name": "Python 3 (ipykernel)",
   "language": "python",
   "name": "python3"
  },
  "language_info": {
   "codemirror_mode": {
    "name": "ipython",
    "version": 3
   },
   "file_extension": ".py",
   "mimetype": "text/x-python",
   "name": "python",
   "nbconvert_exporter": "python",
   "pygments_lexer": "ipython3",
   "version": "3.9.12"
  }
 },
 "nbformat": 4,
 "nbformat_minor": 5
}
